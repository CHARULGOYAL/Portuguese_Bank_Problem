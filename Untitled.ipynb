{
 "cells": [
  {
   "cell_type": "code",
   "execution_count": 1,
   "metadata": {},
   "outputs": [],
   "source": [
    "import pandas as pd\n",
    "from sklearn.feature_extraction import DictVectorizer\n",
    "import matplotlib.pyplot as plt\n",
    "import seaborn as sns\n",
    "%matplotlib inline\n",
    "from pandas.plotting import scatter_matrix"
   ]
  },
  {
   "cell_type": "code",
   "execution_count": 6,
   "metadata": {},
   "outputs": [],
   "source": [
    "data = pd.read_csv(\"/home/charul/Portuguese-Bank-Problem/bank-additional/bank-additional-full.csv\", sep=';')"
   ]
  },
  {
   "cell_type": "code",
   "execution_count": 7,
   "metadata": {},
   "outputs": [
    {
     "data": {
      "text/html": [
       "<div>\n",
       "<style scoped>\n",
       "    .dataframe tbody tr th:only-of-type {\n",
       "        vertical-align: middle;\n",
       "    }\n",
       "\n",
       "    .dataframe tbody tr th {\n",
       "        vertical-align: top;\n",
       "    }\n",
       "\n",
       "    .dataframe thead th {\n",
       "        text-align: right;\n",
       "    }\n",
       "</style>\n",
       "<table border=\"1\" class=\"dataframe\">\n",
       "  <thead>\n",
       "    <tr style=\"text-align: right;\">\n",
       "      <th></th>\n",
       "      <th>age</th>\n",
       "      <th>job</th>\n",
       "      <th>marital</th>\n",
       "      <th>education</th>\n",
       "      <th>default</th>\n",
       "      <th>housing</th>\n",
       "      <th>loan</th>\n",
       "      <th>contact</th>\n",
       "      <th>month</th>\n",
       "      <th>day_of_week</th>\n",
       "      <th>...</th>\n",
       "      <th>campaign</th>\n",
       "      <th>pdays</th>\n",
       "      <th>previous</th>\n",
       "      <th>poutcome</th>\n",
       "      <th>emp.var.rate</th>\n",
       "      <th>cons.price.idx</th>\n",
       "      <th>cons.conf.idx</th>\n",
       "      <th>euribor3m</th>\n",
       "      <th>nr.employed</th>\n",
       "      <th>y</th>\n",
       "    </tr>\n",
       "  </thead>\n",
       "  <tbody>\n",
       "    <tr>\n",
       "      <th>0</th>\n",
       "      <td>56</td>\n",
       "      <td>housemaid</td>\n",
       "      <td>married</td>\n",
       "      <td>basic.4y</td>\n",
       "      <td>no</td>\n",
       "      <td>no</td>\n",
       "      <td>no</td>\n",
       "      <td>telephone</td>\n",
       "      <td>may</td>\n",
       "      <td>mon</td>\n",
       "      <td>...</td>\n",
       "      <td>1</td>\n",
       "      <td>999</td>\n",
       "      <td>0</td>\n",
       "      <td>nonexistent</td>\n",
       "      <td>1.1</td>\n",
       "      <td>93.994</td>\n",
       "      <td>-36.4</td>\n",
       "      <td>4.857</td>\n",
       "      <td>5191.0</td>\n",
       "      <td>no</td>\n",
       "    </tr>\n",
       "    <tr>\n",
       "      <th>1</th>\n",
       "      <td>57</td>\n",
       "      <td>services</td>\n",
       "      <td>married</td>\n",
       "      <td>high.school</td>\n",
       "      <td>unknown</td>\n",
       "      <td>no</td>\n",
       "      <td>no</td>\n",
       "      <td>telephone</td>\n",
       "      <td>may</td>\n",
       "      <td>mon</td>\n",
       "      <td>...</td>\n",
       "      <td>1</td>\n",
       "      <td>999</td>\n",
       "      <td>0</td>\n",
       "      <td>nonexistent</td>\n",
       "      <td>1.1</td>\n",
       "      <td>93.994</td>\n",
       "      <td>-36.4</td>\n",
       "      <td>4.857</td>\n",
       "      <td>5191.0</td>\n",
       "      <td>no</td>\n",
       "    </tr>\n",
       "    <tr>\n",
       "      <th>2</th>\n",
       "      <td>37</td>\n",
       "      <td>services</td>\n",
       "      <td>married</td>\n",
       "      <td>high.school</td>\n",
       "      <td>no</td>\n",
       "      <td>yes</td>\n",
       "      <td>no</td>\n",
       "      <td>telephone</td>\n",
       "      <td>may</td>\n",
       "      <td>mon</td>\n",
       "      <td>...</td>\n",
       "      <td>1</td>\n",
       "      <td>999</td>\n",
       "      <td>0</td>\n",
       "      <td>nonexistent</td>\n",
       "      <td>1.1</td>\n",
       "      <td>93.994</td>\n",
       "      <td>-36.4</td>\n",
       "      <td>4.857</td>\n",
       "      <td>5191.0</td>\n",
       "      <td>no</td>\n",
       "    </tr>\n",
       "    <tr>\n",
       "      <th>3</th>\n",
       "      <td>40</td>\n",
       "      <td>admin.</td>\n",
       "      <td>married</td>\n",
       "      <td>basic.6y</td>\n",
       "      <td>no</td>\n",
       "      <td>no</td>\n",
       "      <td>no</td>\n",
       "      <td>telephone</td>\n",
       "      <td>may</td>\n",
       "      <td>mon</td>\n",
       "      <td>...</td>\n",
       "      <td>1</td>\n",
       "      <td>999</td>\n",
       "      <td>0</td>\n",
       "      <td>nonexistent</td>\n",
       "      <td>1.1</td>\n",
       "      <td>93.994</td>\n",
       "      <td>-36.4</td>\n",
       "      <td>4.857</td>\n",
       "      <td>5191.0</td>\n",
       "      <td>no</td>\n",
       "    </tr>\n",
       "    <tr>\n",
       "      <th>4</th>\n",
       "      <td>56</td>\n",
       "      <td>services</td>\n",
       "      <td>married</td>\n",
       "      <td>high.school</td>\n",
       "      <td>no</td>\n",
       "      <td>no</td>\n",
       "      <td>yes</td>\n",
       "      <td>telephone</td>\n",
       "      <td>may</td>\n",
       "      <td>mon</td>\n",
       "      <td>...</td>\n",
       "      <td>1</td>\n",
       "      <td>999</td>\n",
       "      <td>0</td>\n",
       "      <td>nonexistent</td>\n",
       "      <td>1.1</td>\n",
       "      <td>93.994</td>\n",
       "      <td>-36.4</td>\n",
       "      <td>4.857</td>\n",
       "      <td>5191.0</td>\n",
       "      <td>no</td>\n",
       "    </tr>\n",
       "  </tbody>\n",
       "</table>\n",
       "<p>5 rows × 21 columns</p>\n",
       "</div>"
      ],
      "text/plain": [
       "   age        job  marital    education  default housing loan    contact  \\\n",
       "0   56  housemaid  married     basic.4y       no      no   no  telephone   \n",
       "1   57   services  married  high.school  unknown      no   no  telephone   \n",
       "2   37   services  married  high.school       no     yes   no  telephone   \n",
       "3   40     admin.  married     basic.6y       no      no   no  telephone   \n",
       "4   56   services  married  high.school       no      no  yes  telephone   \n",
       "\n",
       "  month day_of_week ...  campaign  pdays  previous     poutcome emp.var.rate  \\\n",
       "0   may         mon ...         1    999         0  nonexistent          1.1   \n",
       "1   may         mon ...         1    999         0  nonexistent          1.1   \n",
       "2   may         mon ...         1    999         0  nonexistent          1.1   \n",
       "3   may         mon ...         1    999         0  nonexistent          1.1   \n",
       "4   may         mon ...         1    999         0  nonexistent          1.1   \n",
       "\n",
       "   cons.price.idx  cons.conf.idx  euribor3m  nr.employed   y  \n",
       "0          93.994          -36.4      4.857       5191.0  no  \n",
       "1          93.994          -36.4      4.857       5191.0  no  \n",
       "2          93.994          -36.4      4.857       5191.0  no  \n",
       "3          93.994          -36.4      4.857       5191.0  no  \n",
       "4          93.994          -36.4      4.857       5191.0  no  \n",
       "\n",
       "[5 rows x 21 columns]"
      ]
     },
     "execution_count": 7,
     "metadata": {},
     "output_type": "execute_result"
    }
   ],
   "source": [
    "data.head()"
   ]
  },
  {
   "cell_type": "code",
   "execution_count": 8,
   "metadata": {},
   "outputs": [],
   "source": [
    "data_dict = data.T.to_dict().values()"
   ]
  },
  {
   "cell_type": "code",
   "execution_count": 9,
   "metadata": {},
   "outputs": [],
   "source": [
    "vec = DictVectorizer()\n",
    "signal_array = vec.fit_transform(data_dict).toarray()\n",
    "feature_names = vec.get_feature_names()\n",
    "# signal_array = data.as_matrix() #spits out a numpy matrix\n",
    "# feature_names = list(data)"
   ]
  },
  {
   "cell_type": "code",
   "execution_count": 10,
   "metadata": {},
   "outputs": [
    {
     "data": {
      "text/html": [
       "<div>\n",
       "<style scoped>\n",
       "    .dataframe tbody tr th:only-of-type {\n",
       "        vertical-align: middle;\n",
       "    }\n",
       "\n",
       "    .dataframe tbody tr th {\n",
       "        vertical-align: top;\n",
       "    }\n",
       "\n",
       "    .dataframe thead th {\n",
       "        text-align: right;\n",
       "    }\n",
       "</style>\n",
       "<table border=\"1\" class=\"dataframe\">\n",
       "  <thead>\n",
       "    <tr style=\"text-align: right;\">\n",
       "      <th></th>\n",
       "      <th>age</th>\n",
       "      <th>campaign</th>\n",
       "      <th>cons.conf.idx</th>\n",
       "      <th>cons.price.idx</th>\n",
       "      <th>contact=cellular</th>\n",
       "      <th>contact=telephone</th>\n",
       "      <th>day_of_week=fri</th>\n",
       "      <th>day_of_week=mon</th>\n",
       "      <th>day_of_week=thu</th>\n",
       "      <th>day_of_week=tue</th>\n",
       "      <th>...</th>\n",
       "      <th>month=oct</th>\n",
       "      <th>month=sep</th>\n",
       "      <th>nr.employed</th>\n",
       "      <th>pdays</th>\n",
       "      <th>poutcome=failure</th>\n",
       "      <th>poutcome=nonexistent</th>\n",
       "      <th>poutcome=success</th>\n",
       "      <th>previous</th>\n",
       "      <th>y=no</th>\n",
       "      <th>y=yes</th>\n",
       "    </tr>\n",
       "  </thead>\n",
       "  <tbody>\n",
       "    <tr>\n",
       "      <th>0</th>\n",
       "      <td>56.0</td>\n",
       "      <td>1.0</td>\n",
       "      <td>-36.4</td>\n",
       "      <td>93.994</td>\n",
       "      <td>0.0</td>\n",
       "      <td>1.0</td>\n",
       "      <td>0.0</td>\n",
       "      <td>1.0</td>\n",
       "      <td>0.0</td>\n",
       "      <td>0.0</td>\n",
       "      <td>...</td>\n",
       "      <td>0.0</td>\n",
       "      <td>0.0</td>\n",
       "      <td>5191.0</td>\n",
       "      <td>999.0</td>\n",
       "      <td>0.0</td>\n",
       "      <td>1.0</td>\n",
       "      <td>0.0</td>\n",
       "      <td>0.0</td>\n",
       "      <td>1.0</td>\n",
       "      <td>0.0</td>\n",
       "    </tr>\n",
       "    <tr>\n",
       "      <th>1</th>\n",
       "      <td>57.0</td>\n",
       "      <td>1.0</td>\n",
       "      <td>-36.4</td>\n",
       "      <td>93.994</td>\n",
       "      <td>0.0</td>\n",
       "      <td>1.0</td>\n",
       "      <td>0.0</td>\n",
       "      <td>1.0</td>\n",
       "      <td>0.0</td>\n",
       "      <td>0.0</td>\n",
       "      <td>...</td>\n",
       "      <td>0.0</td>\n",
       "      <td>0.0</td>\n",
       "      <td>5191.0</td>\n",
       "      <td>999.0</td>\n",
       "      <td>0.0</td>\n",
       "      <td>1.0</td>\n",
       "      <td>0.0</td>\n",
       "      <td>0.0</td>\n",
       "      <td>1.0</td>\n",
       "      <td>0.0</td>\n",
       "    </tr>\n",
       "    <tr>\n",
       "      <th>2</th>\n",
       "      <td>37.0</td>\n",
       "      <td>1.0</td>\n",
       "      <td>-36.4</td>\n",
       "      <td>93.994</td>\n",
       "      <td>0.0</td>\n",
       "      <td>1.0</td>\n",
       "      <td>0.0</td>\n",
       "      <td>1.0</td>\n",
       "      <td>0.0</td>\n",
       "      <td>0.0</td>\n",
       "      <td>...</td>\n",
       "      <td>0.0</td>\n",
       "      <td>0.0</td>\n",
       "      <td>5191.0</td>\n",
       "      <td>999.0</td>\n",
       "      <td>0.0</td>\n",
       "      <td>1.0</td>\n",
       "      <td>0.0</td>\n",
       "      <td>0.0</td>\n",
       "      <td>1.0</td>\n",
       "      <td>0.0</td>\n",
       "    </tr>\n",
       "    <tr>\n",
       "      <th>3</th>\n",
       "      <td>40.0</td>\n",
       "      <td>1.0</td>\n",
       "      <td>-36.4</td>\n",
       "      <td>93.994</td>\n",
       "      <td>0.0</td>\n",
       "      <td>1.0</td>\n",
       "      <td>0.0</td>\n",
       "      <td>1.0</td>\n",
       "      <td>0.0</td>\n",
       "      <td>0.0</td>\n",
       "      <td>...</td>\n",
       "      <td>0.0</td>\n",
       "      <td>0.0</td>\n",
       "      <td>5191.0</td>\n",
       "      <td>999.0</td>\n",
       "      <td>0.0</td>\n",
       "      <td>1.0</td>\n",
       "      <td>0.0</td>\n",
       "      <td>0.0</td>\n",
       "      <td>1.0</td>\n",
       "      <td>0.0</td>\n",
       "    </tr>\n",
       "    <tr>\n",
       "      <th>4</th>\n",
       "      <td>56.0</td>\n",
       "      <td>1.0</td>\n",
       "      <td>-36.4</td>\n",
       "      <td>93.994</td>\n",
       "      <td>0.0</td>\n",
       "      <td>1.0</td>\n",
       "      <td>0.0</td>\n",
       "      <td>1.0</td>\n",
       "      <td>0.0</td>\n",
       "      <td>0.0</td>\n",
       "      <td>...</td>\n",
       "      <td>0.0</td>\n",
       "      <td>0.0</td>\n",
       "      <td>5191.0</td>\n",
       "      <td>999.0</td>\n",
       "      <td>0.0</td>\n",
       "      <td>1.0</td>\n",
       "      <td>0.0</td>\n",
       "      <td>0.0</td>\n",
       "      <td>1.0</td>\n",
       "      <td>0.0</td>\n",
       "    </tr>\n",
       "  </tbody>\n",
       "</table>\n",
       "<p>5 rows × 65 columns</p>\n",
       "</div>"
      ],
      "text/plain": [
       "    age  campaign  cons.conf.idx  cons.price.idx  contact=cellular  \\\n",
       "0  56.0       1.0          -36.4          93.994               0.0   \n",
       "1  57.0       1.0          -36.4          93.994               0.0   \n",
       "2  37.0       1.0          -36.4          93.994               0.0   \n",
       "3  40.0       1.0          -36.4          93.994               0.0   \n",
       "4  56.0       1.0          -36.4          93.994               0.0   \n",
       "\n",
       "   contact=telephone  day_of_week=fri  day_of_week=mon  day_of_week=thu  \\\n",
       "0                1.0              0.0              1.0              0.0   \n",
       "1                1.0              0.0              1.0              0.0   \n",
       "2                1.0              0.0              1.0              0.0   \n",
       "3                1.0              0.0              1.0              0.0   \n",
       "4                1.0              0.0              1.0              0.0   \n",
       "\n",
       "   day_of_week=tue  ...    month=oct  month=sep  nr.employed  pdays  \\\n",
       "0              0.0  ...          0.0        0.0       5191.0  999.0   \n",
       "1              0.0  ...          0.0        0.0       5191.0  999.0   \n",
       "2              0.0  ...          0.0        0.0       5191.0  999.0   \n",
       "3              0.0  ...          0.0        0.0       5191.0  999.0   \n",
       "4              0.0  ...          0.0        0.0       5191.0  999.0   \n",
       "\n",
       "   poutcome=failure  poutcome=nonexistent  poutcome=success  previous  y=no  \\\n",
       "0               0.0                   1.0               0.0       0.0   1.0   \n",
       "1               0.0                   1.0               0.0       0.0   1.0   \n",
       "2               0.0                   1.0               0.0       0.0   1.0   \n",
       "3               0.0                   1.0               0.0       0.0   1.0   \n",
       "4               0.0                   1.0               0.0       0.0   1.0   \n",
       "\n",
       "   y=yes  \n",
       "0    0.0  \n",
       "1    0.0  \n",
       "2    0.0  \n",
       "3    0.0  \n",
       "4    0.0  \n",
       "\n",
       "[5 rows x 65 columns]"
      ]
     },
     "execution_count": 10,
     "metadata": {},
     "output_type": "execute_result"
    }
   ],
   "source": [
    "df = pd.DataFrame(signal_array,columns=feature_names)\n",
    "df.head()"
   ]
  },
  {
   "cell_type": "code",
   "execution_count": 11,
   "metadata": {},
   "outputs": [
    {
     "name": "stderr",
     "output_type": "stream",
     "text": [
      "/home/charul/anaconda3/lib/python3.6/site-packages/sklearn/ensemble/weight_boosting.py:29: DeprecationWarning: numpy.core.umath_tests is an internal NumPy module and should not be imported. It will be removed in a future NumPy release.\n",
      "  from numpy.core.umath_tests import inner1d\n"
     ]
    },
    {
     "name": "stdout",
     "output_type": "stream",
     "text": [
      "Feature ranking:\n",
      "1. feature age (0.164047)\n",
      "2. feature emp.var.rate (0.117021)\n",
      "3. feature campaign (0.083560)\n",
      "4. feature month=sep (0.049478)\n",
      "5. feature nr.employed (0.034052)\n",
      "6. feature cons.conf.idx (0.027570)\n",
      "7. feature cons.price.idx (0.023012)\n",
      "8. feature poutcome=nonexistent (0.022943)\n",
      "9. feature education=unknown (0.022474)\n",
      "10. feature euribor3m (0.021194)\n",
      "11. feature housing=unknown (0.021185)\n",
      "12. feature housing=yes (0.017653)\n",
      "13. feature marital=divorced (0.016720)\n",
      "14. feature education=basic.9y (0.016283)\n",
      "15. feature education=professional.course (0.016191)\n",
      "16. feature marital=married (0.014782)\n",
      "17. feature day_of_week=mon (0.014618)\n",
      "18. feature day_of_week=wed (0.014473)\n",
      "19. feature poutcome=success (0.014427)\n",
      "20. feature day_of_week=thu (0.014243)\n",
      "21. feature day_of_week=tue (0.014166)\n",
      "22. feature job=student (0.014008)\n",
      "23. feature job=unknown (0.014003)\n",
      "24. feature loan=unknown (0.013831)\n",
      "25. feature day_of_week=fri (0.013753)\n",
      "26. feature education=illiterate (0.011851)\n",
      "27. feature job=admin. (0.011798)\n",
      "28. feature education=basic.6y (0.011275)\n",
      "29. feature loan=yes (0.010415)\n",
      "30. feature job=housemaid (0.009447)\n",
      "31. feature job=self-employed (0.009024)\n",
      "32. feature contact=telephone (0.008300)\n",
      "33. feature duration (0.008157)\n",
      "34. feature contact=cellular (0.007694)\n",
      "35. feature pdays (0.007676)\n",
      "36. feature poutcome=failure (0.007590)\n",
      "37. feature default=unknown (0.007252)\n",
      "38. feature default=no (0.007184)\n",
      "39. feature job=management (0.007027)\n",
      "40. feature education=basic.4y (0.006778)\n",
      "41. feature education=university.degree (0.006760)\n",
      "42. feature job=retired (0.006212)\n",
      "43. feature job=blue-collar (0.005778)\n",
      "44. feature month=nov (0.005462)\n",
      "45. feature job=services (0.005384)\n",
      "46. feature job=technician (0.004991)\n",
      "47. feature month=mar (0.004532)\n",
      "48. feature job=entrepreneur (0.004431)\n",
      "49. feature month=jun (0.004220)\n",
      "50. feature marital=unknown (0.003309)\n",
      "51. feature month=jul (0.003013)\n",
      "52. feature month=dec (0.002521)\n",
      "53. feature month=apr (0.002500)\n",
      "54. feature loan=no (0.002475)\n",
      "55. feature housing=no (0.002460)\n",
      "56. feature month=oct (0.002417)\n",
      "57. feature job=unemployed (0.002256)\n",
      "58. feature month=may (0.002140)\n",
      "59. feature month=aug (0.000844)\n",
      "60. feature marital=single (0.000843)\n",
      "61. feature education=high.school (0.000297)\n",
      "62. feature default=yes (0.000001)\n"
     ]
    },
    {
     "data": {
      "image/png": "[encoded data removed]",
      "text/plain": [
       "<Figure size 432x288 with 1 Axes>"
      ]
     },
     "metadata": {
      "needs_background": "light"
     },
     "output_type": "display_data"
    }
   ],
   "source": [
    "import numpy as np\n",
    "import matplotlib.pyplot as plt\n",
    "from sklearn.datasets import make_classification\n",
    "from sklearn.ensemble import RandomForestClassifier\n",
    "X = signal_array[:,:-2]\n",
    "X = np.hstack((X[:,:14],X[:,15:]))\n",
    "y = signal_array[:,-1]\n",
    "# Build a forest and compute the feature importances\n",
    "forest = RandomForestClassifier(n_estimators=250,\n",
    "random_state=0)\n",
    "forest.fit(X, y)\n",
    "importances = forest.feature_importances_\n",
    "std = np.std([tree.feature_importances_ for tree in forest.estimators_],\n",
    "axis=0)\n",
    "indices = np.argsort(importances)[::-1]\n",
    "# Print the feature ranking\n",
    "print(\"Feature ranking:\")\n",
    "for f in range(X.shape[1]):\n",
    "    print(\"%d. feature %s (%f)\" %(f + 1, feature_names[indices[f]], importances[indices[f]]))\n",
    "# Plot the feature importances of the forest\n",
    "plt.figure()\n",
    "plt.title(\"Feature importances\")\n",
    "plt.bar(range(X.shape[1]), importances[indices],\n",
    "color=\"r\", yerr=std[indices], align=\"center\")\n",
    "plt.xticks(range(X.shape[1]), indices)\n",
    "plt.xlim([-1, X.shape[1]])\n",
    "plt.show()"
   ]
  },
  {
   "cell_type": "code",
   "execution_count": 12,
   "metadata": {},
   "outputs": [
    {
     "name": "stderr",
     "output_type": "stream",
     "text": [
      "/home/charul/anaconda3/lib/python3.6/site-packages/scipy/stats/stats.py:1713: FutureWarning: Using a non-tuple sequence for multidimensional indexing is deprecated; use `arr[tuple(seq)]` instead of `arr[seq]`. In the future this will be interpreted as an array index, `arr[np.array(seq)]`, which will result either in an error or a different result.\n",
      "  return np.add.reduce(sorted[indexer] * weights, axis=axis) / sumval\n"
     ]
    },
    {
     "data": {
      "image/png": "[encoded data removed]",
      "text/plain": [
       "<Figure size 432x288 with 1 Axes>"
      ]
     },
     "metadata": {
      "needs_background": "light"
     },
     "output_type": "display_data"
    }
   ],
   "source": [
    "ax = sns.regplot(x=\"age\", y=\"y=yes\", order=3, data=df, truncate=True)"
   ]
  },
  {
   "cell_type": "code",
   "execution_count": 13,
   "metadata": {},
   "outputs": [
    {
     "name": "stderr",
     "output_type": "stream",
     "text": [
      "/home/charul/anaconda3/lib/python3.6/site-packages/scipy/stats/stats.py:1713: FutureWarning: Using a non-tuple sequence for multidimensional indexing is deprecated; use `arr[tuple(seq)]` instead of `arr[seq]`. In the future this will be interpreted as an array index, `arr[np.array(seq)]`, which will result either in an error or a different result.\n",
      "  return np.add.reduce(sorted[indexer] * weights, axis=axis) / sumval\n"
     ]
    },
    {
     "data": {
      "image/png": "[encoded data removed]",
      "text/plain": [
       "<Figure size 432x288 with 1 Axes>"
      ]
     },
     "metadata": {
      "needs_background": "light"
     },
     "output_type": "display_data"
    }
   ],
   "source": [
    "ax = sns.regplot(x=\"campaign\", y=\"y=yes\", order=1, data=df, truncate=True)"
   ]
  },
  {
   "cell_type": "code",
   "execution_count": 14,
   "metadata": {},
   "outputs": [
    {
     "data": {
      "text/html": [
       "<div>\n",
       "<style scoped>\n",
       "    .dataframe tbody tr th:only-of-type {\n",
       "        vertical-align: middle;\n",
       "    }\n",
       "\n",
       "    .dataframe tbody tr th {\n",
       "        vertical-align: top;\n",
       "    }\n",
       "\n",
       "    .dataframe thead th {\n",
       "        text-align: right;\n",
       "    }\n",
       "</style>\n",
       "<table border=\"1\" class=\"dataframe\">\n",
       "  <thead>\n",
       "    <tr style=\"text-align: right;\">\n",
       "      <th></th>\n",
       "      <th>age</th>\n",
       "      <th>campaign</th>\n",
       "      <th>cons.conf.idx</th>\n",
       "      <th>cons.price.idx</th>\n",
       "      <th>contact=cellular</th>\n",
       "      <th>contact=telephone</th>\n",
       "      <th>day_of_week=fri</th>\n",
       "      <th>day_of_week=mon</th>\n",
       "      <th>day_of_week=thu</th>\n",
       "      <th>day_of_week=tue</th>\n",
       "      <th>...</th>\n",
       "      <th>month=oct</th>\n",
       "      <th>month=sep</th>\n",
       "      <th>nr.employed</th>\n",
       "      <th>pdays</th>\n",
       "      <th>poutcome=failure</th>\n",
       "      <th>poutcome=nonexistent</th>\n",
       "      <th>poutcome=success</th>\n",
       "      <th>previous</th>\n",
       "      <th>y=no</th>\n",
       "      <th>y=yes</th>\n",
       "    </tr>\n",
       "  </thead>\n",
       "  <tbody>\n",
       "    <tr>\n",
       "      <th>3219</th>\n",
       "      <td>39.0</td>\n",
       "      <td>23.0</td>\n",
       "      <td>-36.4</td>\n",
       "      <td>93.994</td>\n",
       "      <td>0.0</td>\n",
       "      <td>1.0</td>\n",
       "      <td>0.0</td>\n",
       "      <td>0.0</td>\n",
       "      <td>1.0</td>\n",
       "      <td>0.0</td>\n",
       "      <td>...</td>\n",
       "      <td>0.0</td>\n",
       "      <td>0.0</td>\n",
       "      <td>5191.0</td>\n",
       "      <td>999.0</td>\n",
       "      <td>0.0</td>\n",
       "      <td>1.0</td>\n",
       "      <td>0.0</td>\n",
       "      <td>0.0</td>\n",
       "      <td>0.0</td>\n",
       "      <td>1.0</td>\n",
       "    </tr>\n",
       "    <tr>\n",
       "      <th>10162</th>\n",
       "      <td>44.0</td>\n",
       "      <td>17.0</td>\n",
       "      <td>-41.8</td>\n",
       "      <td>94.465</td>\n",
       "      <td>0.0</td>\n",
       "      <td>1.0</td>\n",
       "      <td>0.0</td>\n",
       "      <td>0.0</td>\n",
       "      <td>1.0</td>\n",
       "      <td>0.0</td>\n",
       "      <td>...</td>\n",
       "      <td>0.0</td>\n",
       "      <td>0.0</td>\n",
       "      <td>5228.1</td>\n",
       "      <td>999.0</td>\n",
       "      <td>0.0</td>\n",
       "      <td>1.0</td>\n",
       "      <td>0.0</td>\n",
       "      <td>0.0</td>\n",
       "      <td>0.0</td>\n",
       "      <td>1.0</td>\n",
       "    </tr>\n",
       "    <tr>\n",
       "      <th>17284</th>\n",
       "      <td>59.0</td>\n",
       "      <td>17.0</td>\n",
       "      <td>-42.7</td>\n",
       "      <td>93.918</td>\n",
       "      <td>1.0</td>\n",
       "      <td>0.0</td>\n",
       "      <td>1.0</td>\n",
       "      <td>0.0</td>\n",
       "      <td>0.0</td>\n",
       "      <td>0.0</td>\n",
       "      <td>...</td>\n",
       "      <td>0.0</td>\n",
       "      <td>0.0</td>\n",
       "      <td>5228.1</td>\n",
       "      <td>999.0</td>\n",
       "      <td>0.0</td>\n",
       "      <td>1.0</td>\n",
       "      <td>0.0</td>\n",
       "      <td>0.0</td>\n",
       "      <td>0.0</td>\n",
       "      <td>1.0</td>\n",
       "    </tr>\n",
       "    <tr>\n",
       "      <th>17655</th>\n",
       "      <td>50.0</td>\n",
       "      <td>17.0</td>\n",
       "      <td>-42.7</td>\n",
       "      <td>93.918</td>\n",
       "      <td>0.0</td>\n",
       "      <td>1.0</td>\n",
       "      <td>0.0</td>\n",
       "      <td>1.0</td>\n",
       "      <td>0.0</td>\n",
       "      <td>0.0</td>\n",
       "      <td>...</td>\n",
       "      <td>0.0</td>\n",
       "      <td>0.0</td>\n",
       "      <td>5228.1</td>\n",
       "      <td>999.0</td>\n",
       "      <td>0.0</td>\n",
       "      <td>1.0</td>\n",
       "      <td>0.0</td>\n",
       "      <td>0.0</td>\n",
       "      <td>0.0</td>\n",
       "      <td>1.0</td>\n",
       "    </tr>\n",
       "    <tr>\n",
       "      <th>29980</th>\n",
       "      <td>31.0</td>\n",
       "      <td>17.0</td>\n",
       "      <td>-47.1</td>\n",
       "      <td>93.075</td>\n",
       "      <td>0.0</td>\n",
       "      <td>1.0</td>\n",
       "      <td>0.0</td>\n",
       "      <td>0.0</td>\n",
       "      <td>0.0</td>\n",
       "      <td>1.0</td>\n",
       "      <td>...</td>\n",
       "      <td>0.0</td>\n",
       "      <td>0.0</td>\n",
       "      <td>5099.1</td>\n",
       "      <td>999.0</td>\n",
       "      <td>0.0</td>\n",
       "      <td>1.0</td>\n",
       "      <td>0.0</td>\n",
       "      <td>0.0</td>\n",
       "      <td>0.0</td>\n",
       "      <td>1.0</td>\n",
       "    </tr>\n",
       "  </tbody>\n",
       "</table>\n",
       "<p>5 rows × 65 columns</p>\n",
       "</div>"
      ],
      "text/plain": [
       "        age  campaign  cons.conf.idx  cons.price.idx  contact=cellular  \\\n",
       "3219   39.0      23.0          -36.4          93.994               0.0   \n",
       "10162  44.0      17.0          -41.8          94.465               0.0   \n",
       "17284  59.0      17.0          -42.7          93.918               1.0   \n",
       "17655  50.0      17.0          -42.7          93.918               0.0   \n",
       "29980  31.0      17.0          -47.1          93.075               0.0   \n",
       "\n",
       "       contact=telephone  day_of_week=fri  day_of_week=mon  day_of_week=thu  \\\n",
       "3219                 1.0              0.0              0.0              1.0   \n",
       "10162                1.0              0.0              0.0              1.0   \n",
       "17284                0.0              1.0              0.0              0.0   \n",
       "17655                1.0              0.0              1.0              0.0   \n",
       "29980                1.0              0.0              0.0              0.0   \n",
       "\n",
       "       day_of_week=tue  ...    month=oct  month=sep  nr.employed  pdays  \\\n",
       "3219               0.0  ...          0.0        0.0       5191.0  999.0   \n",
       "10162              0.0  ...          0.0        0.0       5228.1  999.0   \n",
       "17284              0.0  ...          0.0        0.0       5228.1  999.0   \n",
       "17655              0.0  ...          0.0        0.0       5228.1  999.0   \n",
       "29980              1.0  ...          0.0        0.0       5099.1  999.0   \n",
       "\n",
       "       poutcome=failure  poutcome=nonexistent  poutcome=success  previous  \\\n",
       "3219                0.0                   1.0               0.0       0.0   \n",
       "10162               0.0                   1.0               0.0       0.0   \n",
       "17284               0.0                   1.0               0.0       0.0   \n",
       "17655               0.0                   1.0               0.0       0.0   \n",
       "29980               0.0                   1.0               0.0       0.0   \n",
       "\n",
       "       y=no  y=yes  \n",
       "3219    0.0    1.0  \n",
       "10162   0.0    1.0  \n",
       "17284   0.0    1.0  \n",
       "17655   0.0    1.0  \n",
       "29980   0.0    1.0  \n",
       "\n",
       "[5 rows x 65 columns]"
      ]
     },
     "execution_count": 14,
     "metadata": {},
     "output_type": "execute_result"
    }
   ],
   "source": [
    "df.loc[(df['campaign'] >15) & (df['y=yes']==1)]"
   ]
  },
  {
   "cell_type": "code",
   "execution_count": 15,
   "metadata": {},
   "outputs": [
    {
     "name": "stderr",
     "output_type": "stream",
     "text": [
      "/home/charul/anaconda3/lib/python3.6/site-packages/scipy/stats/stats.py:1713: FutureWarning: Using a non-tuple sequence for multidimensional indexing is deprecated; use `arr[tuple(seq)]` instead of `arr[seq]`. In the future this will be interpreted as an array index, `arr[np.array(seq)]`, which will result either in an error or a different result.\n",
      "  return np.add.reduce(sorted[indexer] * weights, axis=axis) / sumval\n"
     ]
    },
    {
     "data": {
      "image/png": "[encoded data removed]",
      "text/plain": [
       "<Figure size 432x288 with 1 Axes>"
      ]
     },
     "metadata": {
      "needs_background": "light"
     },
     "output_type": "display_data"
    }
   ],
   "source": [
    "ax = sns.regplot(x=\"emp.var.rate\", y=\"y=yes\", order=1, data=df, truncate=True)"
   ]
  },
  {
   "cell_type": "code",
   "execution_count": 16,
   "metadata": {},
   "outputs": [
    {
     "name": "stderr",
     "output_type": "stream",
     "text": [
      "/home/charul/anaconda3/lib/python3.6/site-packages/scipy/stats/stats.py:1713: FutureWarning: Using a non-tuple sequence for multidimensional indexing is deprecated; use `arr[tuple(seq)]` instead of `arr[seq]`. In the future this will be interpreted as an array index, `arr[np.array(seq)]`, which will result either in an error or a different result.\n",
      "  return np.add.reduce(sorted[indexer] * weights, axis=axis) / sumval\n"
     ]
    },
    {
     "data": {
      "image/png": "[encoded data removed]",
      "text/plain": [
       "<Figure size 432x288 with 1 Axes>"
      ]
     },
     "metadata": {
      "needs_background": "light"
     },
     "output_type": "display_data"
    }
   ],
   "source": [
    "ax = sns.regplot(x=\"nr.employed\", y=\"y=yes\", order=1, data=df, truncate=True)"
   ]
  },
  {
   "cell_type": "code",
   "execution_count": 17,
   "metadata": {},
   "outputs": [
    {
     "name": "stderr",
     "output_type": "stream",
     "text": [
      "/home/charul/anaconda3/lib/python3.6/site-packages/scipy/stats/stats.py:1713: FutureWarning: Using a non-tuple sequence for multidimensional indexing is deprecated; use `arr[tuple(seq)]` instead of `arr[seq]`. In the future this will be interpreted as an array index, `arr[np.array(seq)]`, which will result either in an error or a different result.\n",
      "  return np.add.reduce(sorted[indexer] * weights, axis=axis) / sumval\n"
     ]
    },
    {
     "data": {
      "image/png": "[encoded data removed]",
      "text/plain": [
       "<Figure size 432x288 with 1 Axes>"
      ]
     },
     "metadata": {
      "needs_background": "light"
     },
     "output_type": "display_data"
    }
   ],
   "source": [
    "ax = sns.regplot(x=\"age\", y=\"y=yes\", order=1, data=df, truncate=True)"
   ]
  },
  {
   "cell_type": "code",
   "execution_count": 18,
   "metadata": {},
   "outputs": [
    {
     "name": "stderr",
     "output_type": "stream",
     "text": [
      "/home/charul/anaconda3/lib/python3.6/site-packages/scipy/stats/stats.py:1713: FutureWarning: Using a non-tuple sequence for multidimensional indexing is deprecated; use `arr[tuple(seq)]` instead of `arr[seq]`. In the future this will be interpreted as an array index, `arr[np.array(seq)]`, which will result either in an error or a different result.\n",
      "  return np.add.reduce(sorted[indexer] * weights, axis=axis) / sumval\n"
     ]
    },
    {
     "data": {
      "image/png": "[encoded data removed]",
      "text/plain": [
       "<Figure size 432x288 with 1 Axes>"
      ]
     },
     "metadata": {
      "needs_background": "light"
     },
     "output_type": "display_data"
    }
   ],
   "source": [
    "ax = sns.regplot(x=\"duration\", y=\"y=yes\", order=1, data=df, truncate=True)"
   ]
  },
  {
   "cell_type": "code",
   "execution_count": 19,
   "metadata": {},
   "outputs": [
    {
     "name": "stderr",
     "output_type": "stream",
     "text": [
      "/home/charul/anaconda3/lib/python3.6/site-packages/scipy/stats/stats.py:1713: FutureWarning: Using a non-tuple sequence for multidimensional indexing is deprecated; use `arr[tuple(seq)]` instead of `arr[seq]`. In the future this will be interpreted as an array index, `arr[np.array(seq)]`, which will result either in an error or a different result.\n",
      "  return np.add.reduce(sorted[indexer] * weights, axis=axis) / sumval\n"
     ]
    },
    {
     "data": {
      "image/png": "[encoded data removed]",
      "text/plain": [
       "<Figure size 432x288 with 1 Axes>"
      ]
     },
     "metadata": {
      "needs_background": "light"
     },
     "output_type": "display_data"
    }
   ],
   "source": [
    "ax = sns.regplot(x=\"contact=telephone\", y=\"y=yes\", order=1, data=df, truncate=True)"
   ]
  },
  {
   "cell_type": "code",
   "execution_count": 27,
   "metadata": {},
   "outputs": [
    {
     "name": "stderr",
     "output_type": "stream",
     "text": [
      "/home/charul/anaconda3/lib/python3.6/site-packages/scipy/stats/stats.py:1713: FutureWarning: Using a non-tuple sequence for multidimensional indexing is deprecated; use `arr[tuple(seq)]` instead of `arr[seq]`. In the future this will be interpreted as an array index, `arr[np.array(seq)]`, which will result either in an error or a different result.\n",
      "  return np.add.reduce(sorted[indexer] * weights, axis=axis) / sumval\n"
     ]
    },
    {
     "data": {
      "image/png": "[encoded data removed]",
      "text/plain": [
       "<Figure size 432x288 with 1 Axes>"
      ]
     },
     "metadata": {
      "needs_background": "light"
     },
     "output_type": "display_data"
    }
   ],
   "source": [
    "ax = sns.regplot(x=\"month=may\", y=\"y=yes\", order=1, data=df, truncate=True)"
   ]
  },
  {
   "cell_type": "code",
   "execution_count": 21,
   "metadata": {},
   "outputs": [
    {
     "name": "stderr",
     "output_type": "stream",
     "text": [
      "/home/charul/anaconda3/lib/python3.6/site-packages/scipy/stats/stats.py:1713: FutureWarning: Using a non-tuple sequence for multidimensional indexing is deprecated; use `arr[tuple(seq)]` instead of `arr[seq]`. In the future this will be interpreted as an array index, `arr[np.array(seq)]`, which will result either in an error or a different result.\n",
      "  return np.add.reduce(sorted[indexer] * weights, axis=axis) / sumval\n"
     ]
    },
    {
     "data": {
      "image/png": "[encoded data removed]",
      "text/plain": [
       "<Figure size 432x288 with 1 Axes>"
      ]
     },
     "metadata": {
      "needs_background": "light"
     },
     "output_type": "display_data"
    }
   ],
   "source": [
    "ax = sns.regplot(x=\"cons.conf.idx\", y=\"y=yes\", order=1, data=df, truncate=True)"
   ]
  },
  {
   "cell_type": "code",
   "execution_count": 22,
   "metadata": {},
   "outputs": [
    {
     "name": "stderr",
     "output_type": "stream",
     "text": [
      "/home/charul/anaconda3/lib/python3.6/site-packages/scipy/stats/stats.py:1713: FutureWarning: Using a non-tuple sequence for multidimensional indexing is deprecated; use `arr[tuple(seq)]` instead of `arr[seq]`. In the future this will be interpreted as an array index, `arr[np.array(seq)]`, which will result either in an error or a different result.\n",
      "  return np.add.reduce(sorted[indexer] * weights, axis=axis) / sumval\n"
     ]
    },
    {
     "data": {
      "image/png": "[encoded data removed]",
      "text/plain": [
       "<Figure size 432x288 with 1 Axes>"
      ]
     },
     "metadata": {
      "needs_background": "light"
     },
     "output_type": "display_data"
    }
   ],
   "source": [
    "ax = sns.regplot(x=\"poutcome=nonexistent\", y=\"y=yes\", order=1, data=df, truncate=True)"
   ]
  },
  {
   "cell_type": "code",
   "execution_count": 23,
   "metadata": {},
   "outputs": [
    {
     "name": "stderr",
     "output_type": "stream",
     "text": [
      "/home/charul/anaconda3/lib/python3.6/site-packages/scipy/stats/stats.py:1713: FutureWarning: Using a non-tuple sequence for multidimensional indexing is deprecated; use `arr[tuple(seq)]` instead of `arr[seq]`. In the future this will be interpreted as an array index, `arr[np.array(seq)]`, which will result either in an error or a different result.\n",
      "  return np.add.reduce(sorted[indexer] * weights, axis=axis) / sumval\n"
     ]
    },
    {
     "data": {
      "image/png": "[encoded data removed]",
      "text/plain": [
       "<Figure size 432x288 with 1 Axes>"
      ]
     },
     "metadata": {
      "needs_background": "light"
     },
     "output_type": "display_data"
    }
   ],
   "source": [
    "ax = sns.regplot(x=\"education=unknown\", y=\"y=yes\", order=1, data=df, truncate=True)"
   ]
  },
  {
   "cell_type": "code",
   "execution_count": 24,
   "metadata": {},
   "outputs": [
    {
     "name": "stderr",
     "output_type": "stream",
     "text": [
      "/home/charul/anaconda3/lib/python3.6/site-packages/scipy/stats/stats.py:1713: FutureWarning: Using a non-tuple sequence for multidimensional indexing is deprecated; use `arr[tuple(seq)]` instead of `arr[seq]`. In the future this will be interpreted as an array index, `arr[np.array(seq)]`, which will result either in an error or a different result.\n",
      "  return np.add.reduce(sorted[indexer] * weights, axis=axis) / sumval\n"
     ]
    },
    {
     "data": {
      "image/png": "[encoded data removed]",
      "text/plain": [
       "<Figure size 432x288 with 1 Axes>"
      ]
     },
     "metadata": {
      "needs_background": "light"
     },
     "output_type": "display_data"
    }
   ],
   "source": [
    "ax = sns.regplot(x=\"euribor3m\", y=\"y=yes\", order=1, data=df, truncate=True)"
   ]
  },
  {
   "cell_type": "code",
   "execution_count": 28,
   "metadata": {},
   "outputs": [
    {
     "name": "stderr",
     "output_type": "stream",
     "text": [
      "/home/charul/anaconda3/lib/python3.6/site-packages/scipy/stats/stats.py:1713: FutureWarning: Using a non-tuple sequence for multidimensional indexing is deprecated; use `arr[tuple(seq)]` instead of `arr[seq]`. In the future this will be interpreted as an array index, `arr[np.array(seq)]`, which will result either in an error or a different result.\n",
      "  return np.add.reduce(sorted[indexer] * weights, axis=axis) / sumval\n"
     ]
    },
    {
     "data": {
      "image/png": "[encoded data removed]",
      "text/plain": [
       "<Figure size 432x288 with 1 Axes>"
      ]
     },
     "metadata": {
      "needs_background": "light"
     },
     "output_type": "display_data"
    }
   ],
   "source": [
    "ax = sns.regplot(x=\"day_of_week=mon\", y=\"y=yes\", order=1, data=df, truncate=True)"
   ]
  },
  {
   "cell_type": "code",
   "execution_count": 31,
   "metadata": {},
   "outputs": [
    {
     "name": "stderr",
     "output_type": "stream",
     "text": [
      "/home/charul/anaconda3/lib/python3.6/site-packages/scipy/stats/stats.py:1713: FutureWarning: Using a non-tuple sequence for multidimensional indexing is deprecated; use `arr[tuple(seq)]` instead of `arr[seq]`. In the future this will be interpreted as an array index, `arr[np.array(seq)]`, which will result either in an error or a different result.\n",
      "  return np.add.reduce(sorted[indexer] * weights, axis=axis) / sumval\n"
     ]
    },
    {
     "data": {
      "image/png": "[encoded data removed]",
      "text/plain": [
       "<Figure size 432x288 with 1 Axes>"
      ]
     },
     "metadata": {
      "needs_background": "light"
     },
     "output_type": "display_data"
    }
   ],
   "source": [
    "ax = sns.regplot(x=\"housing=yes\", y=\"y=yes\", order=1, data=df, truncate=True)"
   ]
  },
  {
   "cell_type": "code",
   "execution_count": 32,
   "metadata": {},
   "outputs": [
    {
     "name": "stderr",
     "output_type": "stream",
     "text": [
      "/home/charul/anaconda3/lib/python3.6/site-packages/scipy/stats/stats.py:1713: FutureWarning: Using a non-tuple sequence for multidimensional indexing is deprecated; use `arr[tuple(seq)]` instead of `arr[seq]`. In the future this will be interpreted as an array index, `arr[np.array(seq)]`, which will result either in an error or a different result.\n",
      "  return np.add.reduce(sorted[indexer] * weights, axis=axis) / sumval\n"
     ]
    },
    {
     "data": {
      "image/png": "[encoded data removed]",
      "text/plain": [
       "<Figure size 432x288 with 1 Axes>"
      ]
     },
     "metadata": {
      "needs_background": "light"
     },
     "output_type": "display_data"
    }
   ],
   "source": [
    "ax = sns.regplot(x=\"job=unknown\", y=\"y=yes\", order=1, data=df, truncate=True)"
   ]
  },
  {
   "cell_type": "code",
   "execution_count": 33,
   "metadata": {},
   "outputs": [
    {
     "data": {
      "text/plain": [
       "0.043875408967982296"
      ]
     },
     "execution_count": 33,
     "metadata": {},
     "output_type": "execute_result"
    }
   ],
   "source": [
    "# Total Conversion ratio\n",
    "sum(df['y=yes'])/sum(df['campaign'])"
   ]
  },
  {
   "cell_type": "code",
   "execution_count": 34,
   "metadata": {},
   "outputs": [
    {
     "name": "stdout",
     "output_type": "stream",
     "text": [
      "Nth Call \t Efficiency\n",
      "1 \t\t 0.05584150723511702\n",
      "2 \t\t 0.05143124097511254\n",
      "3 \t\t 0.04423551171393342\n",
      "4 \t\t 0.03261296660117878\n",
      "5 \t\t 0.024077046548956663\n",
      "6 \t\t 0.022156573116691284\n",
      "7 \t\t 0.015793848711554447\n",
      "8 \t\t 0.009566685424873381\n",
      "9 \t\t 0.012345679012345678\n",
      "10 \t\t 0.010968921389396709\n",
      "11 \t\t 0.01380897583429229\n",
      "12 \t\t 0.004335260115606936\n",
      "13 \t\t 0.007054673721340388\n",
      "14 \t\t 0.002105263157894737\n",
      "15 \t\t 0.0049261083743842365\n",
      "16 \t\t 0.0\n",
      "17 \t\t 0.013157894736842105\n",
      "18 \t\t 0.0\n",
      "19 \t\t 0.0\n",
      "20 \t\t 0.0\n",
      "21 \t\t 0.0\n",
      "22 \t\t 0.0\n",
      "23 \t\t 0.008620689655172414\n",
      "24 \t\t 0.0\n",
      "25 \t\t 0.0\n",
      "26 \t\t 0.0\n",
      "27 \t\t 0.0\n",
      "28 \t\t 0.0\n",
      "29 \t\t 0.0\n"
     ]
    }
   ],
   "source": [
    "# Now let's see efficiancy on every additional call\n",
    "print (\"Nth Call \\t Efficiency\")\n",
    "for i in range(1,30):\n",
    "    goo = sum(df.loc[df['campaign']==i]['y=yes']) / float(df.loc[df['campaign'] >= i].shape[0])\n",
    "    print (str((i))+\" \\t\\t \"+str(goo))"
   ]
  },
  {
   "cell_type": "code",
   "execution_count": 35,
   "metadata": {},
   "outputs": [],
   "source": [
    "#The Market acceptable conversion ratio is 2-10% so it is a fair to say any call after the 6th call is not acceptable since it has a conversion ratio of less than 1.6%"
   ]
  },
  {
   "cell_type": "code",
   "execution_count": 36,
   "metadata": {},
   "outputs": [
    {
     "name": "stdout",
     "output_type": "stream",
     "text": [
      "For age upto 30\n",
      "Nth Call \t Efficiency\n",
      "1 \t\t 0.07502708559046588\n",
      "2 \t\t 0.07100309745055992\n",
      "3 \t\t 0.06274509803921569\n",
      "4 \t\t 0.04447739065974796\n",
      "5 \t\t 0.03882352941176471\n",
      "6 \t\t 0.02058319039451115\n",
      "7 \t\t 0.030805687203791468\n",
      "8 \t\t 0.006493506493506494\n",
      "9 \t\t 0.012875536480686695\n",
      "10 \t\t 0.005376344086021506\n",
      "11 \t\t 0.013888888888888888\n",
      "12 \t\t 0.0\n",
      "13 \t\t 0.010869565217391304\n",
      "14 \t\t 0.0\n",
      "15 \t\t 0.014705882352941176\n",
      "16 \t\t 0.0\n",
      "17 \t\t 0.0\n",
      "18 \t\t 0.0\n",
      "19 \t\t 0.0\n",
      "20 \t\t 0.0\n",
      "21 \t\t 0.0\n",
      "22 \t\t 0.0\n",
      "23 \t\t 0.0\n",
      "24 \t\t 0.0\n",
      "25 \t\t 0.0\n",
      "26 \t\t 0.0\n",
      "27 \t\t 0.0\n",
      "28 \t\t 0.0\n",
      "29 \t\t 0.0\n"
     ]
    }
   ],
   "source": [
    "print(\"For age upto 30\")\n",
    "print (\"Nth Call \\t Efficiency\")\n",
    "for i in range(1,30):\n",
    "   num = float(df[(df['age'] <= 30) & (df['campaign']==i) & (df['y=yes']==1)].shape[0])\n",
    "   den = 1+float(df[(df['age'] <= 30) & (df['campaign'] >= i)].shape[0])\n",
    "   print (str((i))+\" \\t\\t \"+str(num/den))"
   ]
  },
  {
   "cell_type": "code",
   "execution_count": 37,
   "metadata": {},
   "outputs": [
    {
     "name": "stdout",
     "output_type": "stream",
     "text": [
      "For age between 30-40\n",
      "Nth Call \t Efficiency\n",
      "1 \t\t 0.04882216526302942\n",
      "2 \t\t 0.042643923240938165\n",
      "3 \t\t 0.04005444293214078\n",
      "4 \t\t 0.028093645484949834\n",
      "5 \t\t 0.02048131080389145\n",
      "6 \t\t 0.024279210925644917\n",
      "7 \t\t 0.007494646680942184\n",
      "8 \t\t 0.008746355685131196\n",
      "9 \t\t 0.011538461538461539\n",
      "10 \t\t 0.011990407673860911\n",
      "11 \t\t 0.015015015015015015\n",
      "12 \t\t 0.0076045627376425855\n",
      "13 \t\t 0.009523809523809525\n",
      "14 \t\t 0.0\n",
      "15 \t\t 0.0\n",
      "16 \t\t 0.0\n",
      "17 \t\t 0.009259259259259259\n",
      "18 \t\t 0.0\n",
      "19 \t\t 0.0\n",
      "20 \t\t 0.0\n",
      "21 \t\t 0.0\n",
      "22 \t\t 0.0\n",
      "23 \t\t 0.02040816326530612\n",
      "24 \t\t 0.0\n",
      "25 \t\t 0.0\n",
      "26 \t\t 0.0\n",
      "27 \t\t 0.0\n",
      "28 \t\t 0.0\n",
      "29 \t\t 0.0\n"
     ]
    }
   ],
   "source": [
    "print(\"For age between 30-40\")\n",
    "print (\"Nth Call \\t Efficiency\")\n",
    "for i in range(1,30):\n",
    "    num = float(df[(df['age'] <= 40) & (df['age'] > 30) & (df['campaign']==i) & (df['y=yes']==1)].shape[0])\n",
    "    den = 1+float(df[(df['age'] <= 40) & (df['age'] > 30) & (df['campaign'] >=i)].shape[0])\n",
    "    print (str((i))+\" \\t\\t \"+str(num/den))"
   ]
  },
  {
   "cell_type": "code",
   "execution_count": 38,
   "metadata": {},
   "outputs": [
    {
     "name": "stdout",
     "output_type": "stream",
     "text": [
      "For age between 40-50\n",
      "Nth Call \t Efficiency\n",
      "1 \t\t 0.03925397910360316\n",
      "2 \t\t 0.036345108695652176\n",
      "3 \t\t 0.03047676523838262\n",
      "4 \t\t 0.027820710973724884\n",
      "5 \t\t 0.020737327188940093\n",
      "6 \t\t 0.016853932584269662\n",
      "7 \t\t 0.008012820512820512\n",
      "8 \t\t 0.008368200836820083\n",
      "9 \t\t 0.005333333333333333\n",
      "10 \t\t 0.013888888888888888\n",
      "11 \t\t 0.017316017316017316\n",
      "12 \t\t 0.005434782608695652\n",
      "13 \t\t 0.006622516556291391\n",
      "14 \t\t 0.007936507936507936\n",
      "15 \t\t 0.0\n",
      "16 \t\t 0.0\n",
      "17 \t\t 0.023529411764705882\n",
      "18 \t\t 0.0\n",
      "19 \t\t 0.0\n",
      "20 \t\t 0.0\n",
      "21 \t\t 0.0\n",
      "22 \t\t 0.0\n",
      "23 \t\t 0.0\n",
      "24 \t\t 0.0\n",
      "25 \t\t 0.0\n",
      "26 \t\t 0.0\n",
      "27 \t\t 0.0\n",
      "28 \t\t 0.0\n",
      "29 \t\t 0.0\n"
     ]
    }
   ],
   "source": [
    "print(\"For age between 40-50\")\n",
    "print (\"Nth Call \\t Efficiency\")\n",
    "for i in range(1,30):\n",
    "   num = float(df[(df['age'] <= 50) & (df['age'] > 40) & (df['campaign']==i) & (df['y=yes']==1)].shape[0])\n",
    "   den = 1+float(df[(df['age'] <= 50) & (df['age'] > 40) & (df['campaign'] >=i)].shape[0])\n",
    "   print (str((i))+\" \\t\\t \"+str(num/den))"
   ]
  },
  {
   "cell_type": "code",
   "execution_count": 39,
   "metadata": {},
   "outputs": [
    {
     "name": "stdout",
     "output_type": "stream",
     "text": [
      "For age between 50-60\n",
      "Nth Call \t Efficiency\n",
      "1 \t\t 0.050709615691277306\n",
      "2 \t\t 0.05120481927710843\n",
      "3 \t\t 0.040806293018682396\n",
      "4 \t\t 0.024681528662420384\n",
      "5 \t\t 0.016766467065868262\n",
      "6 \t\t 0.02120141342756184\n",
      "7 \t\t 0.022004889975550123\n",
      "8 \t\t 0.013559322033898305\n",
      "9 \t\t 0.024489795918367346\n",
      "10 \t\t 0.009900990099009901\n",
      "11 \t\t 0.0\n",
      "12 \t\t 0.0\n",
      "13 \t\t 0.0\n",
      "14 \t\t 0.0\n",
      "15 \t\t 0.011363636363636364\n",
      "16 \t\t 0.0\n",
      "17 \t\t 0.016129032258064516\n",
      "18 \t\t 0.0\n",
      "19 \t\t 0.0\n",
      "20 \t\t 0.0\n",
      "21 \t\t 0.0\n",
      "22 \t\t 0.0\n",
      "23 \t\t 0.0\n",
      "24 \t\t 0.0\n",
      "25 \t\t 0.0\n",
      "26 \t\t 0.0\n",
      "27 \t\t 0.0\n",
      "28 \t\t 0.0\n",
      "29 \t\t 0.0\n"
     ]
    }
   ],
   "source": [
    "print(\"For age between 50-60\")\n",
    "print (\"Nth Call \\t Efficiency\")\n",
    "for i in range(1,30):\n",
    "    num = float(df[(df['age'] <= 60) & (df['age'] > 50) & (df['campaign']==i) & (df['y=yes']==1)].shape[0])\n",
    "    den = 1+float(df[(df['age'] <= 60) & (df['age'] > 50) & (df['campaign'] >=i)].shape[0])\n",
    "    print (str((i))+\" \\t\\t \"+str(num/den))"
   ]
  },
  {
   "cell_type": "code",
   "execution_count": 40,
   "metadata": {},
   "outputs": [
    {
     "name": "stdout",
     "output_type": "stream",
     "text": [
      "For age above 60\n",
      "Nth Call \t Efficiency\n",
      "1 \t\t 0.24807903402854006\n",
      "2 \t\t 0.25806451612903225\n",
      "3 \t\t 0.20512820512820512\n",
      "4 \t\t 0.19230769230769232\n",
      "5 \t\t 0.12244897959183673\n",
      "6 \t\t 0.12121212121212122\n",
      "7 \t\t 0.18181818181818182\n",
      "8 \t\t 0.06666666666666667\n",
      "9 \t\t 0.0\n",
      "10 \t\t 0.0\n",
      "11 \t\t 0.16666666666666666\n",
      "12 \t\t 0.0\n",
      "13 \t\t 0.0\n",
      "14 \t\t 0.0\n",
      "15 \t\t 0.0\n",
      "16 \t\t 0.0\n",
      "17 \t\t 0.0\n",
      "18 \t\t 0.0\n",
      "19 \t\t 0.0\n",
      "20 \t\t 0.0\n",
      "21 \t\t 0.0\n",
      "22 \t\t 0.0\n",
      "23 \t\t 0.0\n",
      "24 \t\t 0.0\n",
      "25 \t\t 0.0\n",
      "26 \t\t 0.0\n",
      "27 \t\t 0.0\n",
      "28 \t\t 0.0\n",
      "29 \t\t 0.0\n"
     ]
    }
   ],
   "source": [
    "print(\"For age above 60\")\n",
    "print (\"Nth Call \\t Efficiency\")\n",
    "for i in range(1,30):\n",
    "    num = float(df[(df['age'] > 60) & (df['campaign']==i) & (df['y=yes']==1)].shape[0])\n",
    "    den = float(df[(df['age'] > 60) & (df['campaign'] >= i)].shape[0])+1\n",
    "    print (str((i))+\" \\t\\t \"+str(num/den))"
   ]
  },
  {
   "cell_type": "code",
   "execution_count": 41,
   "metadata": {},
   "outputs": [
    {
     "name": "stdout",
     "output_type": "stream",
     "text": [
      "105754.0\n"
     ]
    }
   ],
   "source": [
    "# Calculate how many calls were made in total\n",
    "total_calls = sum(df['campaign'])\n",
    "print(total_calls)"
   ]
  },
  {
   "cell_type": "code",
   "execution_count": 42,
   "metadata": {},
   "outputs": [
    {
     "name": "stdout",
     "output_type": "stream",
     "text": [
      "12040.0\n"
     ]
    }
   ],
   "source": [
    "# Calculate how many calls were made after the 6th call\n",
    "extra_calls = sum(df[df['campaign']>6]['campaign']) - 6*df[df['campaign']>6].shape[0]\n",
    "print(extra_calls)"
   ]
  },
  {
   "cell_type": "code",
   "execution_count": 43,
   "metadata": {},
   "outputs": [
    {
     "name": "stdout",
     "output_type": "stream",
     "text": [
      "11.384912154622993\n"
     ]
    }
   ],
   "source": [
    "# Calculate reduction in marketing cost\n",
    "reduction=100*extra_calls/total_calls\n",
    "print(reduction)"
   ]
  },
  {
   "cell_type": "code",
   "execution_count": 44,
   "metadata": {},
   "outputs": [
    {
     "name": "stdout",
     "output_type": "stream",
     "text": [
      "4640.0\n"
     ]
    }
   ],
   "source": [
    "total_sales=float(df[df['y=yes']==1].shape[0])\n",
    "print(total_sales)"
   ]
  },
  {
   "cell_type": "code",
   "execution_count": 45,
   "metadata": {},
   "outputs": [
    {
     "name": "stdout",
     "output_type": "stream",
     "text": [
      "4529.0\n"
     ]
    }
   ],
   "source": [
    "less_costly_sales=float(df[(df['campaign'] <= 6) & (df['y=yes']==1)].shape[0])\n",
    "print(less_costly_sales)"
   ]
  },
  {
   "cell_type": "code",
   "execution_count": 47,
   "metadata": {},
   "outputs": [
    {
     "name": "stdout",
     "output_type": "stream",
     "text": [
      "97.60775862068965\n"
     ]
    }
   ],
   "source": [
    "sales_percent=100*less_costly_sales/total_sales\n",
    "print(sales_percent)"
   ]
  },
  {
   "cell_type": "code",
   "execution_count": 48,
   "metadata": {},
   "outputs": [],
   "source": [
    "####Hence a reduction of about 11.4% in marketing cost can be achieved while maintaining 97.6% sales if any person is called a maximum of 6 times."
   ]
  }
 ],
 "metadata": {
  "kernelspec": {
   "display_name": "Python 3",
   "language": "python",
   "name": "python3"
  },
  "language_info": {
   "codemirror_mode": {
    "name": "ipython",
    "version": 3
   },
   "file_extension": ".py",
   "mimetype": "text/x-python",
   "name": "python",
   "nbconvert_exporter": "python",
   "pygments_lexer": "ipython3",
   "version": "3.6.6"
  }
 },
 "nbformat": 4,
 "nbformat_minor": 2
}
